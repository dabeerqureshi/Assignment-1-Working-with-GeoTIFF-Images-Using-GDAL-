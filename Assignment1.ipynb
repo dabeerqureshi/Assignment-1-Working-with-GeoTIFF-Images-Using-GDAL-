{
  "cells": [
    {
      "cell_type": "markdown",
      "metadata": {
        "id": "fOvFLJo0BabX"
      },
      "source": [
        "This is a PyQt5-based GUI application that allows users to view and interact with GeoTIFF images (geospatial raster images). The application enables zooming, panning, marking locations, and converting between pixel and geographic coordinates (latitude/longitude)."
      ]
    },
    {
      "cell_type": "markdown",
      "metadata": {
        "id": "DIYJwy5-THKL"
      },
      "source": [
        "# **Dependencies**\n",
        "1. **sys** → System-related functionalities\n",
        "2. **numpy** → Numerical computations\n",
        "3. **gdal** (from osgeo) → Geospatial data processing\n",
        "4. **matplotlib.pyplot** → Data visualization\n",
        "5. **PyQt5.QtWidgets** → GUI components\n",
        "6. **PyQt5.QtCore** → Core functionalities for PyQt5\n",
        "7. **FigureCanvasQTAgg** → Embeds Matplotlib figures in PyQt5 GUI\n",
        "\n",
        "\n",
        "\n",
        "\n",
        "\n",
        "\n"
      ]
    },
    {
      "cell_type": "code",
      "execution_count": 1,
      "metadata": {
        "id": "Xh2oNIAqTHKR"
      },
      "outputs": [],
      "source": [
        "import sys\n",
        "import numpy as np\n",
        "from osgeo import gdal\n",
        "import matplotlib.pyplot as plt\n",
        "from PyQt5.QtWidgets import QApplication, QMainWindow, QLabel, QPushButton, QVBoxLayout, QWidget, QLineEdit, QHBoxLayout\n",
        "from PyQt5.QtCore import Qt\n",
        "from matplotlib.backends.backend_qt5agg import FigureCanvasQTAgg as FigureCanvas"
      ]
    },
    {
      "cell_type": "markdown",
      "metadata": {
        "id": "hUmWsrC4UM_v"
      },
      "source": [
        "# Key Features and Functionalities\n",
        "1. **Load and Display GeoTIFF Images**\n",
        "\n",
        "Uses gdal.Open(self.tif_file) to load a GeoTIFF image.\n",
        "Reads the image into a NumPy array and handles multi-band (RGB) images.\n",
        "Displays the image using matplotlib.\n",
        "\n",
        "2. **Coordinate Conversion**\n",
        "\n",
        "pixel_to_latlon(x, y): Converts pixel coordinates to latitude/longitude using the GeoTransform matrix.\n",
        "latlon_to_pixel(lat, lon): Converts geographic coordinates back to pixel coordinates using the inverse GeoTransform.\n",
        "\n",
        "3. **Mouse Tracking**\n",
        "\n",
        "The on_mouse_move(event) function updates the X, Y, latitude, and longitude values when the user moves the mouse over the image.\n",
        "\n",
        "4. **Marking Locations**\n",
        "\n",
        "The user can enter latitude and longitude, and the application marks the location on the image with a red + symbol.\n",
        "\n",
        "5. **Zooming and Panning**\n",
        "\n",
        "Zooming: on_scroll(event) adjusts the zoom level using the mouse wheel.\n",
        "Panning: The user can click and drag to move around the image.\n",
        "\n",
        "6. **PyQt5 UI Setup**\n",
        "\n",
        "Uses QMainWindow, QLabel, QLineEdit, QPushButton, and QVBoxLayout for the UI.\n",
        "Displays the image using matplotlib's FigureCanvas inside the PyQt5 window.\n",
        "Workflow of the Application.\n",
        "\n",
        "7. **Initialize the Viewer**\n",
        "\n",
        "Load the GeoTIFF file and extract its GeoTransform matrix.\n",
        "Convert multi-band images to RGB if needed.\n",
        "\n",
        "8. **Set Up the UI**\n",
        "\n",
        "Create a main display for the image.\n",
        "Add labels for displaying coordinates.\n",
        "Provide input fields for latitude/longitude marking.\n",
        "\n",
        "9. **Enable Mouse Interactions**\n",
        "\n",
        "Track the mouse position and update the UI dynamically.\n",
        "Allow zooming via scroll events.\n",
        "Implement panning using click-and-drag.\n",
        "\n",
        "10. **Allow User to Mark Locations**\n",
        "\n",
        "Convert latitude/longitude to pixel coordinates.\n",
        "Plot the point on the image using matplotlib.\n",
        "\n",
        "11. **Redraw the Canvas**\n",
        "\n",
        "Update the display whenever an interaction occurs (zoom, pan, mark).\n"
      ]
    },
    {
      "cell_type": "code",
      "execution_count": 2,
      "metadata": {
        "id": "BsLnpHssTHKT"
      },
      "outputs": [],
      "source": [
        "\n",
        "class GeoTIFFViewer(QMainWindow):\n",
        "    \"\"\"\n",
        "    A PyQt5-based GUI application for viewing and interacting with GeoTIFF images.\n",
        "    This includes displaying the image, tracking pixel coordinates, converting to\n",
        "    latitude/longitude, marking specific locations, and supporting zoom/pan functionality.\n",
        "    \"\"\"\n",
        "    def __init__(self, tif_file):\n",
        "        \"\"\"Initialize the GeoTIFF Viewer.\"\"\"\n",
        "        super().__init__()\n",
        "        self.tif_file = tif_file\n",
        "        self.dataset = gdal.Open(self.tif_file)  # Load GeoTIFF file\n",
        "        self.geotransform = self.dataset.GetGeoTransform()\n",
        "        self.image = self.dataset.ReadAsArray()\n",
        "\n",
        "        # Convert multi-band images to displayable format (RGB)\n",
        "        if len(self.image.shape) == 3:\n",
        "            self.image = np.transpose(self.image, (1, 2, 0))\n",
        "\n",
        "        self.initUI()\n",
        "\n",
        "    def initUI(self):\n",
        "        \"\"\"Setup UI layout and elements.\"\"\"\n",
        "        self.setWindowTitle(\"GeoTIFF Viewer\")\n",
        "        self.setGeometry(100, 100, 900, 700)\n",
        "\n",
        "        # Create a matplotlib canvas for displaying the image\n",
        "        self.canvas = FigureCanvas(plt.figure(figsize=(6, 6)))\n",
        "        self.ax = self.canvas.figure.add_subplot(111)\n",
        "        self.ax.imshow(self.image, cmap='gray')\n",
        "\n",
        "        # Labels for displaying pixel and geographical coordinates\n",
        "        self.x_label, self.y_label = QLabel(\"X: N/A\"), QLabel(\"Y: N/A\")\n",
        "        self.lat_label, self.lon_label = QLabel(\"Latitude: N/A\"), QLabel(\"Longitude: N/A\")\n",
        "\n",
        "        # Input fields for latitude & longitude marking\n",
        "        self.lat_input, self.lon_input = QLineEdit(), QLineEdit()\n",
        "        self.lat_input.setPlaceholderText(\"Enter Latitude\")\n",
        "        self.lon_input.setPlaceholderText(\"Enter Longitude\")\n",
        "        self.mark_button = QPushButton(\"Mark Location\")\n",
        "        self.mark_button.clicked.connect(self.mark_location)\n",
        "\n",
        "        # Layout for coordinate display\n",
        "        coord_layout = QHBoxLayout()\n",
        "        for label in [self.x_label, self.y_label, self.lat_label, self.lon_label]:\n",
        "            coord_layout.addWidget(label)\n",
        "\n",
        "        # Layout for user input (Latitude, Longitude, Mark Button)\n",
        "        input_layout = QHBoxLayout()\n",
        "        for widget in [self.lat_input, self.lon_input, self.mark_button]:\n",
        "            input_layout.addWidget(widget)\n",
        "\n",
        "        # Main layout\n",
        "        main_layout = QVBoxLayout()\n",
        "        main_layout.addWidget(self.canvas)\n",
        "        main_layout.addLayout(coord_layout)\n",
        "        main_layout.addLayout(input_layout)\n",
        "\n",
        "        # Set the layout to the central widget\n",
        "        container = QWidget()\n",
        "        container.setLayout(main_layout)\n",
        "        self.setCentralWidget(container)\n",
        "\n",
        "        # Connect mouse events for tracking and interactivity\n",
        "        self.canvas.mpl_connect(\"motion_notify_event\", self.on_mouse_move)\n",
        "        self.canvas.mpl_connect(\"scroll_event\", self.on_scroll)\n",
        "        self.canvas.mpl_connect(\"button_press_event\", self.on_mouse_press)\n",
        "        self.canvas.mpl_connect(\"button_release_event\", self.on_mouse_release)\n",
        "        self.canvas.mpl_connect(\"motion_notify_event\", self.on_mouse_drag)\n",
        "\n",
        "        # Variables for zooming and panning\n",
        "        self.pan_start = None\n",
        "        self.zoom_factor = 1.0\n",
        "\n",
        "    def pixel_to_latlon(self, x, y):\n",
        "        \"\"\"Convert pixel (X, Y) coordinates to geographic (latitude, longitude).\"\"\"\n",
        "        lon = self.geotransform[0] + x * self.geotransform[1] + y * self.geotransform[2]\n",
        "        lat = self.geotransform[3] + x * self.geotransform[4] + y * self.geotransform[5]\n",
        "        return lat, lon\n",
        "\n",
        "    def latlon_to_pixel(self, lat, lon):\n",
        "        \"\"\"Convert latitude & longitude to pixel (X, Y) coordinates.\"\"\"\n",
        "        inv_transform = gdal.InvGeoTransform(self.geotransform)\n",
        "        px, py = gdal.ApplyGeoTransform(inv_transform, lon, lat)\n",
        "        return int(px), int(py)\n",
        "\n",
        "    def on_mouse_move(self, event):\n",
        "        \"\"\"Update X, Y, Latitude, and Longitude as the mouse moves over the image.\"\"\"\n",
        "        if event.xdata is not None and event.ydata is not None:\n",
        "            lat, lon = self.pixel_to_latlon(event.xdata, event.ydata)\n",
        "            self.x_label.setText(f\"X: {int(event.xdata)}\")\n",
        "            self.y_label.setText(f\"Y: {int(event.ydata)}\")\n",
        "            self.lat_label.setText(f\"Latitude: {lat:.6f}\")\n",
        "            self.lon_label.setText(f\"Longitude: {lon:.6f}\")\n",
        "\n",
        "    def mark_location(self):\n",
        "        \"\"\"Mark a specific location on the image based on user-entered latitude and longitude.\"\"\"\n",
        "        try:\n",
        "            lat, lon = float(self.lat_input.text()), float(self.lon_input.text())\n",
        "            px, py = self.latlon_to_pixel(lat, lon)\n",
        "            self.ax.plot(px, py, marker='+', color='red', markersize=12)\n",
        "            self.canvas.draw()\n",
        "        except ValueError:\n",
        "            print(\"Invalid latitude/longitude input!\")\n",
        "\n",
        "    def on_scroll(self, event):\n",
        "        \"\"\"Zoom functionality using the mouse wheel.\"\"\"\n",
        "        if event.step > 0:\n",
        "            self.zoom_factor *= 1.2  # Zoom in\n",
        "        else:\n",
        "            self.zoom_factor /= 1.2  # Zoom out\n",
        "\n",
        "        self.ax.set_xlim(self.ax.get_xlim()[0] / self.zoom_factor, self.ax.get_xlim()[1] / self.zoom_factor)\n",
        "        self.ax.set_ylim(self.ax.get_ylim()[0] / self.zoom_factor, self.ax.get_ylim()[1] / self.zoom_factor)\n",
        "        self.canvas.draw()\n",
        "\n",
        "    def on_mouse_press(self, event):\n",
        "        \"\"\"Capture the starting point for panning when the left mouse button is pressed.\"\"\"\n",
        "        if event.button == 1:\n",
        "            self.pan_start = (event.xdata, event.ydata)\n",
        "\n",
        "    def on_mouse_release(self, event):\n",
        "        \"\"\"Reset panning state when the mouse button is released.\"\"\"\n",
        "        self.pan_start = None\n",
        "\n",
        "    def on_mouse_drag(self, event):\n",
        "        \"\"\"Enable panning by dragging the image.\"\"\"\n",
        "        if self.pan_start is None or event.xdata is None or event.ydata is None:\n",
        "            return\n",
        "        dx, dy = event.xdata - self.pan_start[0], event.ydata - self.pan_start[1]\n",
        "\n",
        "        self.ax.set_xlim(self.ax.get_xlim()[0] - dx, self.ax.get_xlim()[1] - dx)\n",
        "        self.ax.set_ylim(self.ax.get_ylim()[0] - dy, self.ax.get_ylim()[1] - dy)\n",
        "        self.canvas.draw()\n",
        "        self.pan_start = (event.xdata, event.ydata)\n"
      ]
    },
    {
      "cell_type": "code",
      "execution_count": 3,
      "metadata": {
        "id": "z8Z3veOLTHKW",
        "outputId": "6ee4869d-20d0-4edc-b776-8d19dcae028d"
      },
      "outputs": [
        {
          "name": "stderr",
          "output_type": "stream",
          "text": [
            "c:\\Users\\qures\\anaconda3\\Lib\\site-packages\\osgeo\\gdal.py:311: FutureWarning: Neither gdal.UseExceptions() nor gdal.DontUseExceptions() has been explicitly called. In GDAL 4.0, exceptions will be enabled by default.\n",
            "  warnings.warn(\n"
          ]
        },
        {
          "ename": "SystemExit",
          "evalue": "0",
          "output_type": "error",
          "traceback": [
            "An exception has occurred, use %tb to see the full traceback.\n",
            "\u001b[1;31mSystemExit\u001b[0m\u001b[1;31m:\u001b[0m 0\n"
          ]
        },
        {
          "name": "stderr",
          "output_type": "stream",
          "text": [
            "c:\\Users\\qures\\anaconda3\\Lib\\site-packages\\IPython\\core\\interactiveshell.py:3585: UserWarning: To exit: use 'exit', 'quit', or Ctrl-D.\n",
            "  warn(\"To exit: use 'exit', 'quit', or Ctrl-D.\", stacklevel=1)\n"
          ]
        },
        {
          "data": {
            "image/png": "[encoded data removed]",
            "text/plain": [
              "<Figure size 874x600 with 1 Axes>"
            ]
          },
          "metadata": {},
          "output_type": "display_data"
        }
      ],
      "source": [
        "if __name__ == \"__main__\":\n",
        "    app = QApplication(sys.argv)\n",
        "    window = GeoTIFFViewer(r\"E:\\Computer Vision\\Working with GeoTIFF Images Using GDAL\\testGeoTiff.tif\")\n",
        "    window.show()\n",
        "    sys.exit(app.exec_())"
      ]
    }
  ],
  "metadata": {
    "colab": {
      "provenance": []
    },
    "kernelspec": {
      "display_name": "base",
      "language": "python",
      "name": "python3"
    },
    "language_info": {
      "codemirror_mode": {
        "name": "ipython",
        "version": 3
      },
      "file_extension": ".py",
      "mimetype": "text/x-python",
      "name": "python",
      "nbconvert_exporter": "python",
      "pygments_lexer": "ipython3",
      "version": "3.12.7"
    }
  },
  "nbformat": 4,
  "nbformat_minor": 0
}
